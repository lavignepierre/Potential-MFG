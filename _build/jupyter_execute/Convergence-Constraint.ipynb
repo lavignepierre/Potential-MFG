{
 "cells": [
  {
   "cell_type": "markdown",
   "metadata": {},
   "source": [
    "# Convergence\n",
    "\n",
    "Here we show the measure, the value and the mean strategy at each iteration for the three algorithms.\n",
    "\n",
    "## MFG\n",
    "\n",
    "|| measure| value  | mean stratgy |\n",
    "|:---:|:-----------:|:-----------:|:-----------:|\n",
    "|__Chambolle-Pock__|<video controls width=\"320\" height=\"240\"><source src=\"_images/chambolle_pock_mfg_constraint_m_convergence.mp4\" type=\"video/mp4\"></video>|<video controls width=\"320\" height=\"240\"><source src=\"_images/chambolle_pock_mfg_constraint_u_convergence.mp4\" type=\"video/mp4\"></video>|<video controls width=\"320\" height=\"240\"><source src=\"_images/chambolle_pock_mfg_constraint_mean_strategy_convergence.mp4\" type=\"video/mp4\"></video>|\n",
    "|__Chambolle-Pock-Bregman__|<video controls width=\"320\" height=\"240\"><source src=\"_images/chambolle_pock_bregman_constraint_mfg_m_convergence.mp4\" type=\"video/mp4\"></video>|<video controls width=\"320\" height=\"240\"><source src=\"_images/chambolle_pock_bregman_constraint_mfg_u_convergence.mp4\" type=\"video/mp4\"></video>|<video controls width=\"320\" height=\"240\"><source src=\"_images/chambolle_pock_bregman_constraint_mfg_mean_strategy_convergence.mp4\" type=\"video/mp4\"></video>|\n",
    "|__ADMM__ |<video controls width=\"320\" height=\"240\"><source src=\"_images/ADMM_constraint_mfg_m_convergence.mp4\" type=\"video/mp4\"></video>|<video controls width=\"320\" height=\"240\"><source src=\"_images/ADMM_constraint_mfg_u_convergence.mp4\" type=\"video/mp4\"></video>|<video controls width=\"320\" height=\"240\"><source src=\"_images/ADMM_constraint_mfg_mean_strategy_convergence.mp4\" type=\"video/mp4\"></video>|\n",
    "|__ADMG__ |<video controls width=\"320\" height=\"240\"><source src=\"_images/ADMG_constraint_mfg_m_convergence.mp4\" type=\"video/mp4\"></video>|<video controls width=\"320\" height=\"240\"><source src=\"_images/ADMG_constraint_mfg_u_convergence.mp4\" type=\"video/mp4\"></video>|<video controls width=\"320\" height=\"240\"><source src=\"_images/ADMG_constraint_mfg_mean_strategy_convergence.mp4\" type=\"video/mp4\"></video>|"
   ]
  },
  {
   "cell_type": "markdown",
   "metadata": {},
   "source": [
    "## MFGC\n",
    "\n",
    "|| measure| value  | mean stratgy |\n",
    "|:---:|:-----------:|:-----------:|:-----------:|\n",
    "|__Chambolle-Pock__|<video controls width=\"320\" height=\"240\"><source src=\"_images/chambolle_pock_mfgc_constraint_m_convergence.mp4\" type=\"video/mp4\"></video>|<video controls width=\"320\" height=\"240\"><source src=\"_images/chambolle_pock_mfgc_constraint_u_convergence.mp4\" type=\"video/mp4\"></video>|<video controls width=\"320\" height=\"240\"><source src=\"_images/chambolle_pock_mfgc_constraint_mean_strategy_convergence.mp4\" type=\"video/mp4\"></video>|\n",
    "|__Chambolle-Pock-Bregman__|<video controls width=\"320\" height=\"240\"><source src=\"_images/chambolle_pock_bregman_constraint_mfgc_m_convergence.mp4\" type=\"video/mp4\"></video>|<video controls width=\"320\" height=\"240\"><source src=\"_images/chambolle_pock_bregman_constraint_mfgc_u_convergence.mp4\" type=\"video/mp4\"></video>|<video controls width=\"320\" height=\"240\"><source src=\"_images/chambolle_pock_bregman_constraint_mfgc_mean_strategy_convergence.mp4\" type=\"video/mp4\"></video>|\n",
    "|__ADMM__ |<video controls width=\"320\" height=\"240\"><source src=\"_images/ADMM_constraint_mfgc_m_convergence.mp4\" type=\"video/mp4\"></video>|<video controls width=\"320\" height=\"240\"><source src=\"_images/ADMM_constraint_mfgc_u_convergence.mp4\" type=\"video/mp4\"></video>|<video controls width=\"320\" height=\"240\"><source src=\"_images/ADMM_constraint_mfgc_mean_strategy_convergence.mp4\" type=\"video/mp4\"></video>|\n",
    "|__ADMG__ |<video controls width=\"320\" height=\"240\"><source src=\"_images/ADMG_constraint_mfgc_m_convergence.mp4\" type=\"video/mp4\"></video>|<video controls width=\"320\" height=\"240\"><source src=\"_images/ADMG_constraint_mfgc_u_convergence.mp4\" type=\"video/mp4\"></video>|<video controls width=\"320\" height=\"240\"><source src=\"_images/ADMG_constraint_mfgc_mean_strategy_convergence.mp4\" type=\"video/mp4\"></video>|"
   ]
  }
 ],
 "metadata": {
  "kernelspec": {
   "display_name": "Python 3",
   "language": "python",
   "name": "python3"
  },
  "language_info": {
   "codemirror_mode": {
    "name": "ipython",
    "version": 3
   },
   "file_extension": ".py",
   "mimetype": "text/x-python",
   "name": "python",
   "nbconvert_exporter": "python",
   "pygments_lexer": "ipython3",
   "version": "3.7.6"
  }
 },
 "nbformat": 4,
 "nbformat_minor": 4
}