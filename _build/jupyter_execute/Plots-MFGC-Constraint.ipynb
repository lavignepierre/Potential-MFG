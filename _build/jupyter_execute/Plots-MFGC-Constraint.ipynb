{
 "cells": [
  {
   "cell_type": "markdown",
   "metadata": {},
   "source": [
    "# Plot MFGC "
   ]
  },
  {
   "cell_type": "markdown",
   "metadata": {},
   "source": [
    "## Errors\n",
    "\n",
    "\n",
    "|||\n",
    "|:---:|:---:|\n",
    "|<figure><img src=\"_images/chambolle_pock_mfgc_constraint_error.png\" width=\"400\" async/> <figcaption>Chambolle-Pock</figcaption></figure>|<figure>  <img src=\"_images/chambolle_pock_bregman_constraint_mfgc_error.png\" width=\"400\" async/> <figcaption>Chambolle-Pock-Bregman</figcaption></figure>|\n",
    "|<figure><img src=\"_images/relaxed_chambolle_pock_mfgc_constraint_error.png\" width=\"400\" async/> <figcaption>Relaxed Chambolle-Pock</figcaption></figure>|<figure>  <img src=\"_images/inertial_chambolle_pock_mfgc_constraint_error.png\" width=\"400\" async/> <figcaption>Inertial Chambolle-Pock</figcaption></figure>|\n",
    "|<figure> <img src=\"_images/ADMM_constraint_mfgc_error.png\" width=\"400\"  async/><figcaption>ADMM</figcaption></figure> | <figure> <img src=\"_images/ADMG_constraint_mfgc_error.png\" width=\"400\" async/><figcaption>ADM-G</figcaption></figure>|"
   ]
  },
  {
   "cell_type": "markdown",
   "metadata": {},
   "source": [
    "## 3d Plots : measure, value and mean strategy\n",
    "\n",
    "|| measure| value  | mean stratgy |\n",
    "|:---:|:-----------:|:-----------:|:-----------:|\n",
    "|__Chambolle-Pock__|      <img src=\"_images/chambolle_pock_mfgc_constraint_m.png\" async/>     |      <img src=\"_images/chambolle_pock_mfgc_constraint_u.png\" async/>    |   <img src=\"_images/chambolle_pock_mfgc_constraint_mean_strategy.png\" async/> |\n",
    "|__Chambolle-Pock-Bregman__|      <img src=\"_images/chambolle_pock_bregman_constraint_mfgc_m.png\" async/>     |      <img src=\"_images/chambolle_pock_bregman_constraint_mfgc_u.png\" async/>    |   <img src=\"_images/chambolle_pock_bregman_constraint_mfgc_mean_strategy.png\" async/> |\n",
    "|__ADMM__ |     <img src=\"_images/ADMM_constraint_mfgc_m.png\" async/>      |      <img src=\"_images/ADMM_constraint_mfgc_u.png\" async/>    |  <img src=\"_images/ADMM_constraint_mfgc_mean_strategy.png\" async/> |\n",
    "|__ADMG__ |     <img src=\"_images/ADMG_constraint_mfgc_m.png\" async/>      |      <img src=\"_images/ADMG_constraint_mfgc_u.png\" async/>    |  <img src=\"_images/ADMG_constraint_mfgc_mean_strategy.png\" async/> |"
   ]
  },
  {
   "cell_type": "markdown",
   "metadata": {},
   "source": [
    "## Contour polts : measure, value and mean strategy\n",
    "\n",
    "\n",
    "|| measure| value  | mean stratgy |\n",
    "|:---:|:-----------:|:-----------:|:-----------:|\n",
    "|__Chambolle-Pock__|      <img src=\"_images/chambolle_pock_mfgc_constraint_m_contour.png\" async/>     |      <img src=\"_images/chambolle_pock_mfgc_constraint_u_contour.png\" async/>    |   <img src=\"_images/chambolle_pock_mfgc_constraint_mean_strategy_contour.png\" async/> |\n",
    "|__Chambolle-Pock-Bregman__|      <img src=\"_images/chambolle_pock_bregman_constraint_mfgc_m_contour.png\" async/>     |      <img src=\"_images/chambolle_pock_bregman_constraint_mfgc_u_contour.png\" async/>    |   <img src=\"_images/chambolle_pock_bregman_constraint_mfgc_mean_strategy_contour.png\" async/> |\n",
    "|__ADMM__ |     <img src=\"_images/ADMM_constraint_mfgc_m_contour.png\" async/>      |      <img src=\"_images/ADMM_constraint_mfgc_u_contour.png\" async/>    |  <img src=\"_images/ADMM_constraint_mfgc_mean_strategy_contour.png\" async/> |\n",
    "|__ADMG__ |     <img src=\"_images/ADMG_constraint_mfgc_m_contour.png\" async/>      |      <img src=\"_images/ADMG_constraint_mfgc_u_contour.png\" async/>    |  <img src=\"_images/ADMG_constraint_mfgc_mean_strategy_contour.png\" async/> |"
   ]
  },
  {
   "cell_type": "markdown",
   "metadata": {},
   "source": [
    "## Price and demand\n",
    "\n",
    "|| Price | Demand  |\n",
    "|:---:|:-----------:|:-----------:|\n",
    "|__Chambolle-Pock__|      <img src=\"_images/chambolle_pock_mfgc_constraint_P.png\" async/>     |      <img src=\"_images/chambolle_pock_mfgc_constraint_D.png\" async/>    |\n",
    "|__Chambolle-Pock-Bregman__|      <img src=\"_images/chambolle_pock_bregman_constraint_mfgc_P.png\" async/>     |      <img src=\"_images/chambolle_pock_bregman_constraint_mfgc_D.png\" async/>    | \n",
    "|__ADMM__ |     <img src=\"_images/ADMM_constraint_mfgc_P.png\" async/>      |      <img src=\"_images/ADMM_constraint_mfgc_D.png\" async/>    | \n",
    "|__ADMG__ |     <img src=\"_images/ADMG_constraint_mfgc_P.png\" async/>      |      <img src=\"_images/ADMG_constraint_mfgc_D.png\" async/>    |"
   ]
  }
 ],
 "metadata": {
  "kernelspec": {
   "display_name": "Python 3",
   "language": "python",
   "name": "python3"
  },
  "language_info": {
   "codemirror_mode": {
    "name": "ipython",
    "version": 3
   },
   "file_extension": ".py",
   "mimetype": "text/x-python",
   "name": "python",
   "nbconvert_exporter": "python",
   "pygments_lexer": "ipython3",
   "version": "3.7.6"
  }
 },
 "nbformat": 4,
 "nbformat_minor": 4
}